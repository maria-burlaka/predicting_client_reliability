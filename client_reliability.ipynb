{
 "cells": [
  {
   "cell_type": "code",
   "execution_count": 1,
   "metadata": {},
   "outputs": [],
   "source": [
    "import pandas as pd\n",
    "import numpy as np\n",
    "import matplotlib.pyplot as plt\n",
    "%matplotlib inline"
   ]
  },
  {
   "cell_type": "code",
   "execution_count": 2,
   "metadata": {},
   "outputs": [
    {
     "data": {
      "text/html": [
       "<div>\n",
       "<style scoped>\n",
       "    .dataframe tbody tr th:only-of-type {\n",
       "        vertical-align: middle;\n",
       "    }\n",
       "\n",
       "    .dataframe tbody tr th {\n",
       "        vertical-align: top;\n",
       "    }\n",
       "\n",
       "    .dataframe thead th {\n",
       "        text-align: right;\n",
       "    }\n",
       "</style>\n",
       "<table border=\"1\" class=\"dataframe\">\n",
       "  <thead>\n",
       "    <tr style=\"text-align: right;\">\n",
       "      <th></th>\n",
       "      <th>feature1</th>\n",
       "      <th>age</th>\n",
       "      <th>feature2</th>\n",
       "      <th>feature3</th>\n",
       "      <th>feature4</th>\n",
       "      <th>feature5</th>\n",
       "      <th>feature6</th>\n",
       "      <th>feature7</th>\n",
       "      <th>feature8</th>\n",
       "      <th>feature9</th>\n",
       "      <th>target</th>\n",
       "    </tr>\n",
       "  </thead>\n",
       "  <tbody>\n",
       "    <tr>\n",
       "      <th>0</th>\n",
       "      <td>0.001963</td>\n",
       "      <td>42</td>\n",
       "      <td>0</td>\n",
       "      <td>0.079941</td>\n",
       "      <td>1350</td>\n",
       "      <td>7</td>\n",
       "      <td>0</td>\n",
       "      <td>0</td>\n",
       "      <td>0</td>\n",
       "      <td>0</td>\n",
       "      <td>0</td>\n",
       "    </tr>\n",
       "    <tr>\n",
       "      <th>1</th>\n",
       "      <td>0.004538</td>\n",
       "      <td>86</td>\n",
       "      <td>0</td>\n",
       "      <td>3.000000</td>\n",
       "      <td></td>\n",
       "      <td>2</td>\n",
       "      <td>0</td>\n",
       "      <td>0</td>\n",
       "      <td>0</td>\n",
       "      <td></td>\n",
       "      <td>0</td>\n",
       "    </tr>\n",
       "    <tr>\n",
       "      <th>2</th>\n",
       "      <td>0.023044</td>\n",
       "      <td>61</td>\n",
       "      <td>0</td>\n",
       "      <td>0.419916</td>\n",
       "      <td>5000</td>\n",
       "      <td>18</td>\n",
       "      <td>0</td>\n",
       "      <td>2</td>\n",
       "      <td>0</td>\n",
       "      <td>1</td>\n",
       "      <td>0</td>\n",
       "    </tr>\n",
       "    <tr>\n",
       "      <th>3</th>\n",
       "      <td>0.121242</td>\n",
       "      <td>48</td>\n",
       "      <td>0</td>\n",
       "      <td>0.526589</td>\n",
       "      <td>2500</td>\n",
       "      <td>12</td>\n",
       "      <td>0</td>\n",
       "      <td>1</td>\n",
       "      <td>0</td>\n",
       "      <td>1</td>\n",
       "      <td>0</td>\n",
       "    </tr>\n",
       "    <tr>\n",
       "      <th>4</th>\n",
       "      <td>1.000000</td>\n",
       "      <td>49</td>\n",
       "      <td>3</td>\n",
       "      <td>0.256567</td>\n",
       "      <td>5900</td>\n",
       "      <td>3</td>\n",
       "      <td>3</td>\n",
       "      <td>1</td>\n",
       "      <td>1</td>\n",
       "      <td>2</td>\n",
       "      <td>1</td>\n",
       "    </tr>\n",
       "  </tbody>\n",
       "</table>\n",
       "</div>"
      ],
      "text/plain": [
       "   feature1  age  feature2  feature3 feature4  feature5  feature6  feature7  \\\n",
       "0  0.001963   42         0  0.079941     1350         7         0         0   \n",
       "1  0.004538   86         0  3.000000                  2         0         0   \n",
       "2  0.023044   61         0  0.419916     5000        18         0         2   \n",
       "3  0.121242   48         0  0.526589     2500        12         0         1   \n",
       "4  1.000000   49         3  0.256567     5900         3         3         1   \n",
       "\n",
       "   feature8 feature9  target  \n",
       "0         0        0       0  \n",
       "1         0                0  \n",
       "2         0        1       0  \n",
       "3         0        1       0  \n",
       "4         1        2       1  "
      ]
     },
     "execution_count": 2,
     "metadata": {},
     "output_type": "execute_result"
    }
   ],
   "source": [
    "train = pd.read_csv('train.csv DS.csv')\n",
    "train.head()"
   ]
  },
  {
   "cell_type": "code",
   "execution_count": 3,
   "metadata": {},
   "outputs": [
    {
     "name": "stdout",
     "output_type": "stream",
     "text": [
      "feature1 [0.00196327 0.00453829 0.02304432 ... 0.01532844 0.00224986 0.7836985 ]\n",
      "age [42 86 61 48 49 68 39 47 71 64 50 29 40 62 30 46 63 38 56 74 59 51 72 41\n",
      " 65 70 87 34 43 45 52 60 79 81 35 76 37 33 58 85 75 80 66 55 57 54 36 73\n",
      " 53 31 78 67 82 32 44 77 69 83 84]\n",
      "feature2 [0 3 1 2 4]\n",
      "feature3 [0.07994079 3.         0.41991602 ... 0.34909484 0.26096602 0.59821429]\n",
      "feature4 ['1350' ' ' '5000' ... '1887' '4573' '13445']\n",
      "feature5 [ 7  2 18 12  3  8  4  9  5 10  6 16 11 14 21 13 24 20 15 17 23 22 19]\n",
      "feature6 [0 3 1 2]\n",
      "feature7 [0 2 1 3 4]\n",
      "feature8 [0 1 2]\n",
      "feature9 ['0' ' ' '1' '2' '3' '4']\n",
      "target [0 1]\n"
     ]
    }
   ],
   "source": [
    "for col in list(train.columns):\n",
    "    print(col, train[col].unique())"
   ]
  },
  {
   "cell_type": "markdown",
   "metadata": {},
   "source": [
    "There are missing values with ' ' instead of expected numbers. Let's look how many cells are empty."
   ]
  },
  {
   "cell_type": "code",
   "execution_count": 4,
   "metadata": {},
   "outputs": [
    {
     "name": "stdout",
     "output_type": "stream",
     "text": [
      "<class 'pandas.core.frame.DataFrame'>\n",
      "RangeIndex: 73276 entries, 0 to 73275\n",
      "Data columns (total 11 columns):\n",
      "feature1    73276 non-null float64\n",
      "age         73276 non-null int64\n",
      "feature2    73276 non-null int64\n",
      "feature3    73276 non-null float64\n",
      "feature4    58814 non-null object\n",
      "feature5    73276 non-null int64\n",
      "feature6    73276 non-null int64\n",
      "feature7    73276 non-null int64\n",
      "feature8    73276 non-null int64\n",
      "feature9    71376 non-null object\n",
      "target      73276 non-null int64\n",
      "dtypes: float64(2), int64(7), object(2)\n",
      "memory usage: 6.1+ MB\n"
     ]
    },
    {
     "name": "stderr",
     "output_type": "stream",
     "text": [
      "//anaconda3/lib/python3.7/site-packages/pandas/core/ops.py:1649: FutureWarning: elementwise comparison failed; returning scalar instead, but in the future will perform elementwise comparison\n",
      "  result = method(y)\n"
     ]
    }
   ],
   "source": [
    "train.where(train != ' ', inplace = True)\n",
    "train.info()"
   ]
  },
  {
   "cell_type": "markdown",
   "metadata": {},
   "source": [
    "As we can see, columns feature4 and feature9 are not full and contain object values.\n",
    "We could drop rows with empty cells, but we would loose a lot of data. Let's investigate what we can do with missings. If there are obviously prevailing values in the columns, we'll fill empties with them."
   ]
  },
  {
   "cell_type": "code",
   "execution_count": 5,
   "metadata": {},
   "outputs": [
    {
     "name": "stdout",
     "output_type": "stream",
     "text": [
      "1300     3024\n",
      "5000     1345\n",
      "4000     1045\n",
      "6000      992\n",
      "3000      864\n",
      "10000     737\n",
      "2500      711\n",
      "3500      653\n",
      "25000     626\n",
      "7000      607\n",
      "4500      594\n",
      "8000      572\n",
      "10500     517\n",
      "2000      512\n",
      "7500      509\n",
      "5500      442\n",
      "6500      413\n",
      "9000      372\n",
      "3200      304\n",
      "4166      289\n",
      "4200      289\n",
      "6250      284\n",
      "1500      278\n",
      "8333      261\n",
      "3333      259\n",
      "3600      254\n",
      "12000     248\n",
      "3750      247\n",
      "12500     244\n",
      "5833      239\n",
      "         ... \n",
      "6646        1\n",
      "6921        1\n",
      "9072        1\n",
      "5354        1\n",
      "6357        1\n",
      "9169        1\n",
      "5023        1\n",
      "1627        1\n",
      "8861        1\n",
      "6993        1\n",
      "20933       1\n",
      "6599        1\n",
      "12121       1\n",
      "3491        1\n",
      "9942        1\n",
      "1497        1\n",
      "7836        1\n",
      "3370        1\n",
      "8262        1\n",
      "9508        1\n",
      "13945       1\n",
      "11806       1\n",
      "13092       1\n",
      "11066       1\n",
      "8348        1\n",
      "15875       1\n",
      "17843       1\n",
      "11157       1\n",
      "13180       1\n",
      "7476        1\n",
      "Name: feature4, Length: 9728, dtype: int64\n"
     ]
    },
    {
     "data": {
      "text/plain": [
       "0    42390\n",
       "1    13003\n",
       "2     9537\n",
       "3     4606\n",
       "4     1840\n",
       "Name: feature9, dtype: int64"
      ]
     },
     "execution_count": 5,
     "metadata": {},
     "output_type": "execute_result"
    }
   ],
   "source": [
    "print(train.feature4.value_counts())\n",
    "train.feature9.value_counts()"
   ]
  },
  {
   "cell_type": "markdown",
   "metadata": {},
   "source": [
    "Looks like feature4 has an interval or ratio scale with integer values, so I'm going to convert them to integers and to normalize feature4 using minmax_scale (as there is no obvious prevailing value, I'll fill empty cells with the mean). \n",
    "\n",
    "In feature9 column I'll fill missing values with 0, which is the most common value there."
   ]
  },
  {
   "cell_type": "code",
   "execution_count": 6,
   "metadata": {},
   "outputs": [
    {
     "name": "stdout",
     "output_type": "stream",
     "text": [
      "<class 'pandas.core.frame.DataFrame'>\n",
      "RangeIndex: 73276 entries, 0 to 73275\n",
      "Data columns (total 11 columns):\n",
      "feature1    73276 non-null float64\n",
      "age         73276 non-null int64\n",
      "feature2    73276 non-null int64\n",
      "feature3    73276 non-null float64\n",
      "feature4    73276 non-null float64\n",
      "feature5    73276 non-null int64\n",
      "feature6    73276 non-null int64\n",
      "feature7    73276 non-null int64\n",
      "feature8    73276 non-null int64\n",
      "feature9    73276 non-null int64\n",
      "target      73276 non-null int64\n",
      "dtypes: float64(3), int64(8)\n",
      "memory usage: 6.1 MB\n"
     ]
    }
   ],
   "source": [
    "from sklearn.preprocessing import minmax_scale\n",
    "\n",
    "train['feature4'] = pd.to_numeric(train['feature4'], errors = 'coerce')\n",
    "train['feature4'] = minmax_scale(train['feature4'].fillna(train['feature4'].mean()).astype(int))\n",
    "train['feature9'] = pd.to_numeric(train['feature9'], errors = 'coerce').fillna(0).astype(int)\n",
    "train.info()"
   ]
  },
  {
   "cell_type": "code",
   "execution_count": 7,
   "metadata": {},
   "outputs": [
    {
     "data": {
      "text/plain": [
       "<matplotlib.collections.PathCollection at 0x11c543ac8>"
      ]
     },
     "execution_count": 7,
     "metadata": {},
     "output_type": "execute_result"
    },
    {
     "data": {
      "image/png": "[encoded data removed]",
      "text/plain": [
       "<Figure size 432x288 with 1 Axes>"
      ]
     },
     "metadata": {
      "needs_background": "light"
     },
     "output_type": "display_data"
    }
   ],
   "source": [
    "plt.scatter(train.index, train.feature3)"
   ]
  },
  {
   "cell_type": "markdown",
   "metadata": {},
   "source": [
    "feature3 has outliers, I'll change them with the mean of the other data from this column.\n",
    "\n",
    "(feature4 was checked before scaling, there was no visible problems with outliers. Other coluns also were checked)"
   ]
  },
  {
   "cell_type": "code",
   "execution_count": 8,
   "metadata": {},
   "outputs": [
    {
     "name": "stderr",
     "output_type": "stream",
     "text": [
      "//anaconda3/lib/python3.7/site-packages/ipykernel_launcher.py:6: SettingWithCopyWarning: \n",
      "A value is trying to be set on a copy of a slice from a DataFrame\n",
      "\n",
      "See the caveats in the documentation: http://pandas.pydata.org/pandas-docs/stable/indexing.html#indexing-view-versus-copy\n",
      "  \n"
     ]
    }
   ],
   "source": [
    "feature3_mean, feature3_std = train.feature3.mean(), train.feature3.std()\n",
    "cut_off = feature3_std * 3\n",
    "lower, upper = feature3_mean - cut_off, feature3_mean + cut_off\n",
    "\n",
    "feature3_mean_after_cleaning = train.feature3.drop(index = train.feature3[(train.feature3 > upper)].index).mean()\n",
    "train.feature3[train.feature3 > upper] = feature3_mean_after_cleaning"
   ]
  },
  {
   "cell_type": "code",
   "execution_count": 9,
   "metadata": {},
   "outputs": [],
   "source": [
    "def changing_age(age):\n",
    "    if age < 40:\n",
    "        return 0\n",
    "    elif age >= 40 and age < 60:\n",
    "        return 1\n",
    "    else:\n",
    "        return 2\n",
    "\n",
    "# train.age = train.age.apply(changing_age)"
   ]
  },
  {
   "cell_type": "code",
   "execution_count": 10,
   "metadata": {},
   "outputs": [],
   "source": [
    "# train = pd.get_dummies(train, columns = ['feature2', 'feature6', 'feature7', 'feature8', 'feature9'])"
   ]
  },
  {
   "cell_type": "markdown",
   "metadata": {},
   "source": [
    "I tried treating feature2, feature6-feature9 and age columns as categorical and creating dummies for them, and GradientBoostingClassifier worked the best, but LogisticRegression gives even better result without those permutations. And it works faster :)\n",
    "\n",
    "I'll use accuracy_score as a metric, which computes a ratio between correctly predicted and all predicted values."
   ]
  },
  {
   "cell_type": "code",
   "execution_count": 11,
   "metadata": {},
   "outputs": [
    {
     "name": "stdout",
     "output_type": "stream",
     "text": [
      "Mean accuracy with 5 folds: 0.9377558425295627\n"
     ]
    }
   ],
   "source": [
    "from sklearn.linear_model import LogisticRegression\n",
    "from sklearn.model_selection import KFold\n",
    "from sklearn.metrics import accuracy_score\n",
    "\n",
    "features = [col for col in train.columns if col != 'target']\n",
    "\n",
    "kf = KFold(n_splits = 5, shuffle = True)\n",
    "accuracies = []\n",
    "for train_index, test_index in kf.split(train):\n",
    "    X_train = train.loc[train_index, features]\n",
    "    X_test = train.loc[test_index, features]\n",
    "    y_train = train.loc[train_index, 'target']\n",
    "    y_test = train.loc[test_index, 'target']\n",
    "    lr = LogisticRegression(solver = 'newton-cg', max_iter = 200)\n",
    "    lr.fit(X_train, y_train)\n",
    "    predictions = lr.predict(X_test)\n",
    "    accuracies.append(accuracy_score(y_test, predictions))\n",
    "    \n",
    "print('Mean accuracy with 5 folds: {}'.format(sum(accuracies)/len(accuracies)))"
   ]
  },
  {
   "cell_type": "code",
   "execution_count": 12,
   "metadata": {},
   "outputs": [
    {
     "name": "stdout",
     "output_type": "stream",
     "text": [
      "Mean accuracy with 5 folds: 0.9355450535161702\n"
     ]
    }
   ],
   "source": [
    "from sklearn.ensemble import AdaBoostClassifier\n",
    "\n",
    "accuracies = []\n",
    "for train_index, test_index in kf.split(train):\n",
    "    X_train = train.loc[train_index, features]\n",
    "    X_test = train.loc[test_index, features]\n",
    "    y_train = train.loc[train_index, 'target']\n",
    "    y_test = train.loc[test_index, 'target']\n",
    "    ada = AdaBoostClassifier()\n",
    "    ada.fit(X_train, y_train)\n",
    "    predictions = ada.predict(X_test)\n",
    "    accuracies.append(accuracy_score(y_test, predictions))\n",
    "    \n",
    "print('Mean accuracy with 5 folds: {}'.format(sum(accuracies)/len(accuracies)))"
   ]
  },
  {
   "cell_type": "code",
   "execution_count": 13,
   "metadata": {},
   "outputs": [
    {
     "name": "stderr",
     "output_type": "stream",
     "text": [
      "//anaconda3/lib/python3.7/site-packages/sklearn/ensemble/forest.py:245: FutureWarning: The default value of n_estimators will change from 10 in version 0.20 to 100 in 0.22.\n",
      "  \"10 in version 0.20 to 100 in 0.22.\", FutureWarning)\n",
      "//anaconda3/lib/python3.7/site-packages/sklearn/ensemble/forest.py:245: FutureWarning: The default value of n_estimators will change from 10 in version 0.20 to 100 in 0.22.\n",
      "  \"10 in version 0.20 to 100 in 0.22.\", FutureWarning)\n",
      "//anaconda3/lib/python3.7/site-packages/sklearn/ensemble/forest.py:245: FutureWarning: The default value of n_estimators will change from 10 in version 0.20 to 100 in 0.22.\n",
      "  \"10 in version 0.20 to 100 in 0.22.\", FutureWarning)\n",
      "//anaconda3/lib/python3.7/site-packages/sklearn/ensemble/forest.py:245: FutureWarning: The default value of n_estimators will change from 10 in version 0.20 to 100 in 0.22.\n",
      "  \"10 in version 0.20 to 100 in 0.22.\", FutureWarning)\n",
      "//anaconda3/lib/python3.7/site-packages/sklearn/ensemble/forest.py:245: FutureWarning: The default value of n_estimators will change from 10 in version 0.20 to 100 in 0.22.\n",
      "  \"10 in version 0.20 to 100 in 0.22.\", FutureWarning)\n"
     ]
    },
    {
     "name": "stdout",
     "output_type": "stream",
     "text": [
      "Mean accuracy with 5 folds: 0.9326928172568791\n"
     ]
    }
   ],
   "source": [
    "from sklearn.ensemble import RandomForestClassifier\n",
    "\n",
    "accuracies = []\n",
    "for train_index, test_index in kf.split(train):\n",
    "    X_train = train.loc[train_index, features]\n",
    "    X_test = train.loc[test_index, features]\n",
    "    y_train = train.loc[train_index, 'target']\n",
    "    y_test = train.loc[test_index, 'target']\n",
    "    rfc = RandomForestClassifier()\n",
    "    rfc.fit(X_train, y_train)\n",
    "    predictions = rfc.predict(X_test)\n",
    "    accuracies.append(accuracy_score(y_test, predictions))\n",
    "    \n",
    "print('Mean accuracy with 5 folds: {}'.format(sum(accuracies)/len(accuracies)))"
   ]
  },
  {
   "cell_type": "code",
   "execution_count": 14,
   "metadata": {},
   "outputs": [
    {
     "name": "stdout",
     "output_type": "stream",
     "text": [
      "Mean accuracy with 5 folds: 0.9370598678633313\n"
     ]
    }
   ],
   "source": [
    "from sklearn.ensemble import GradientBoostingClassifier\n",
    "\n",
    "accuracies = []\n",
    "for train_index, test_index in kf.split(train):\n",
    "    X_train = train.loc[train_index, features]\n",
    "    X_test = train.loc[test_index, features]\n",
    "    y_train = train.loc[train_index, 'target']\n",
    "    y_test = train.loc[test_index, 'target']\n",
    "    gbc = GradientBoostingClassifier()\n",
    "    gbc.fit(X_train, y_train)\n",
    "    predictions = gbc.predict(X_test)\n",
    "    accuracies.append(accuracy_score(y_test, predictions))\n",
    "    \n",
    "print('Mean accuracy with 5 folds: {}'.format(sum(accuracies)/len(accuracies)))"
   ]
  },
  {
   "cell_type": "markdown",
   "metadata": {},
   "source": [
    "As we can see, the LogisticRegression works slightly better than other classifiers, so I'll use it to predict target values in test set. But before this I should do the same permutations with the test set as with the train set."
   ]
  },
  {
   "cell_type": "code",
   "execution_count": 15,
   "metadata": {},
   "outputs": [
    {
     "data": {
      "text/html": [
       "<div>\n",
       "<style scoped>\n",
       "    .dataframe tbody tr th:only-of-type {\n",
       "        vertical-align: middle;\n",
       "    }\n",
       "\n",
       "    .dataframe tbody tr th {\n",
       "        vertical-align: top;\n",
       "    }\n",
       "\n",
       "    .dataframe thead th {\n",
       "        text-align: right;\n",
       "    }\n",
       "</style>\n",
       "<table border=\"1\" class=\"dataframe\">\n",
       "  <thead>\n",
       "    <tr style=\"text-align: right;\">\n",
       "      <th></th>\n",
       "      <th>feature1</th>\n",
       "      <th>age</th>\n",
       "      <th>feature2</th>\n",
       "      <th>feature3</th>\n",
       "      <th>feature4</th>\n",
       "      <th>feature5</th>\n",
       "      <th>feature6</th>\n",
       "      <th>feature7</th>\n",
       "      <th>feature8</th>\n",
       "      <th>feature9</th>\n",
       "    </tr>\n",
       "  </thead>\n",
       "  <tbody>\n",
       "    <tr>\n",
       "      <th>0</th>\n",
       "      <td>0.023657</td>\n",
       "      <td>36</td>\n",
       "      <td>0</td>\n",
       "      <td>0.217104</td>\n",
       "      <td>5600</td>\n",
       "      <td>9</td>\n",
       "      <td>0</td>\n",
       "      <td>1</td>\n",
       "      <td>0</td>\n",
       "      <td>0</td>\n",
       "    </tr>\n",
       "    <tr>\n",
       "      <th>1</th>\n",
       "      <td>0.296908</td>\n",
       "      <td>32</td>\n",
       "      <td>0</td>\n",
       "      <td>0.225554</td>\n",
       "      <td>3967</td>\n",
       "      <td>10</td>\n",
       "      <td>0</td>\n",
       "      <td>0</td>\n",
       "      <td>0</td>\n",
       "      <td>0</td>\n",
       "    </tr>\n",
       "    <tr>\n",
       "      <th>2</th>\n",
       "      <td>0.000000</td>\n",
       "      <td>55</td>\n",
       "      <td>0</td>\n",
       "      <td>0.140762</td>\n",
       "      <td>19230</td>\n",
       "      <td>5</td>\n",
       "      <td>1</td>\n",
       "      <td>1</td>\n",
       "      <td>0</td>\n",
       "      <td>3</td>\n",
       "    </tr>\n",
       "    <tr>\n",
       "      <th>3</th>\n",
       "      <td>0.189247</td>\n",
       "      <td>64</td>\n",
       "      <td>2</td>\n",
       "      <td>0.313499</td>\n",
       "      <td>6570</td>\n",
       "      <td>12</td>\n",
       "      <td>0</td>\n",
       "      <td>1</td>\n",
       "      <td>0</td>\n",
       "      <td>0</td>\n",
       "    </tr>\n",
       "    <tr>\n",
       "      <th>4</th>\n",
       "      <td>0.021449</td>\n",
       "      <td>29</td>\n",
       "      <td>0</td>\n",
       "      <td>0.405797</td>\n",
       "      <td>2000</td>\n",
       "      <td>9</td>\n",
       "      <td>0</td>\n",
       "      <td>0</td>\n",
       "      <td>0</td>\n",
       "      <td>0</td>\n",
       "    </tr>\n",
       "  </tbody>\n",
       "</table>\n",
       "</div>"
      ],
      "text/plain": [
       "   feature1  age  feature2  feature3 feature4  feature5  feature6  feature7  \\\n",
       "0  0.023657   36         0  0.217104     5600         9         0         1   \n",
       "1  0.296908   32         0  0.225554     3967        10         0         0   \n",
       "2  0.000000   55         0  0.140762    19230         5         1         1   \n",
       "3  0.189247   64         2  0.313499     6570        12         0         1   \n",
       "4  0.021449   29         0  0.405797     2000         9         0         0   \n",
       "\n",
       "   feature8 feature9  \n",
       "0         0        0  \n",
       "1         0        0  \n",
       "2         0        3  \n",
       "3         0        0  \n",
       "4         0        0  "
      ]
     },
     "execution_count": 15,
     "metadata": {},
     "output_type": "execute_result"
    }
   ],
   "source": [
    "test = pd.read_csv('test.csvDS.csv')\n",
    "test.head()"
   ]
  },
  {
   "cell_type": "code",
   "execution_count": 16,
   "metadata": {},
   "outputs": [
    {
     "name": "stdout",
     "output_type": "stream",
     "text": [
      "feature1 [0.023657   0.29690834 0.         ... 0.04060275 0.59382739 0.95260137]\n",
      "age [36 32 55 64 29 58 39 52 54 47 49 34 56 79 87 44 57 42 61 50 65 74 31 45\n",
      " 38 78 60 72 63 75 37 69 51 35 62 66 68 33 77 73 59 53 48 71 41 70 67 85\n",
      " 40 46 76 86 30 81 82 83 84 43 80]\n",
      "feature2 [0 2 1 3 4]\n",
      "feature3 [0.21710409 0.22555443 0.14076231 ... 0.80121111 0.42723389 0.29333768]\n",
      "feature4 ['5600' '3967' '19230' ... '23916' '5346' '18217']\n",
      "feature5 [ 9 10  5 12  2 16  7  4  3 11  6 19  8 15 13 23 24 14 21 20 17 18 22]\n",
      "feature6 [0 1 2 3]\n",
      "feature7 [1 0 2 3 4]\n",
      "feature8 [0 1 2]\n",
      "feature9 ['0' '3' '2' '1' '4' ' ']\n"
     ]
    }
   ],
   "source": [
    "for col in list(test.columns):\n",
    "    print(col, test[col].unique())"
   ]
  },
  {
   "cell_type": "code",
   "execution_count": 17,
   "metadata": {},
   "outputs": [
    {
     "name": "stdout",
     "output_type": "stream",
     "text": [
      "<class 'pandas.core.frame.DataFrame'>\n",
      "RangeIndex: 31405 entries, 0 to 31404\n",
      "Data columns (total 10 columns):\n",
      "feature1    31405 non-null float64\n",
      "age         31405 non-null int64\n",
      "feature2    31405 non-null int64\n",
      "feature3    31405 non-null float64\n",
      "feature4    31405 non-null float64\n",
      "feature5    31405 non-null int64\n",
      "feature6    31405 non-null int64\n",
      "feature7    31405 non-null int64\n",
      "feature8    31405 non-null int64\n",
      "feature9    31405 non-null int64\n",
      "dtypes: float64(3), int64(7)\n",
      "memory usage: 2.4 MB\n"
     ]
    }
   ],
   "source": [
    "test['feature4'] = pd.to_numeric(test['feature4'], errors = 'coerce')\n",
    "test['feature4'] =  minmax_scale(test['feature4'].fillna(test['feature4'].mean()).astype(int))\n",
    "test['feature9'] = pd.to_numeric(test['feature9'], errors = 'coerce').fillna(0).astype(int)\n",
    "test.info()"
   ]
  },
  {
   "cell_type": "code",
   "execution_count": 18,
   "metadata": {},
   "outputs": [
    {
     "name": "stderr",
     "output_type": "stream",
     "text": [
      "//anaconda3/lib/python3.7/site-packages/ipykernel_launcher.py:6: SettingWithCopyWarning: \n",
      "A value is trying to be set on a copy of a slice from a DataFrame\n",
      "\n",
      "See the caveats in the documentation: http://pandas.pydata.org/pandas-docs/stable/indexing.html#indexing-view-versus-copy\n",
      "  \n"
     ]
    }
   ],
   "source": [
    "feature3_mean, feature3_std = test.feature3.mean(), test.feature3.std()\n",
    "cut_off = feature3_std * 3\n",
    "lower, upper = feature3_mean - cut_off, feature3_mean + cut_off\n",
    "\n",
    "feature3_mean_after_cleaning = test.feature3.drop(index = test.feature3[(test.feature3 > upper)].index).mean()\n",
    "test.feature3[test.feature3 > upper] = feature3_mean_after_cleaning"
   ]
  },
  {
   "cell_type": "markdown",
   "metadata": {},
   "source": [
    "Now we're ready to get predictions"
   ]
  },
  {
   "cell_type": "code",
   "execution_count": 19,
   "metadata": {},
   "outputs": [],
   "source": [
    "lr = LogisticRegression(solver = 'newton-cg', max_iter = 200)\n",
    "lr.fit(train[features], train['target'])\n",
    "test['target'] = lr.predict(test)"
   ]
  },
  {
   "cell_type": "markdown",
   "metadata": {},
   "source": [
    "And the last step, I'm going to sort dataframes by reliability rate from the most to the least reliable person using probabilities of getting 0 value in the target column."
   ]
  },
  {
   "cell_type": "code",
   "execution_count": 20,
   "metadata": {},
   "outputs": [],
   "source": [
    "train['rating'] = lr.predict_proba(train[features])[:, 0]\n",
    "train_indexes_sorted_by_rating = train['rating'].sort_values(ascending = False).index\n",
    "train_sorted = train.iloc[train_indexes_sorted_by_rating, :]\n",
    "train_sorted.to_csv('train_ranked.csv')"
   ]
  },
  {
   "cell_type": "code",
   "execution_count": 21,
   "metadata": {},
   "outputs": [],
   "source": [
    "test['rating'] = lr.predict_proba(test[features])[:, 0]\n",
    "test_indexes_sorted_by_rating = test['rating'].sort_values(ascending = False).index\n",
    "test_sorted = test.iloc[test_indexes_sorted_by_rating, :]\n",
    "test_sorted.to_csv('test_ranked.csv')"
   ]
  }
 ],
 "metadata": {
  "kernelspec": {
   "display_name": "Python 3",
   "language": "python",
   "name": "python3"
  },
  "language_info": {
   "codemirror_mode": {
    "name": "ipython",
    "version": 3
   },
   "file_extension": ".py",
   "mimetype": "text/x-python",
   "name": "python",
   "nbconvert_exporter": "python",
   "pygments_lexer": "ipython3",
   "version": "3.7.3"
  }
 },
 "nbformat": 4,
 "nbformat_minor": 4
}
